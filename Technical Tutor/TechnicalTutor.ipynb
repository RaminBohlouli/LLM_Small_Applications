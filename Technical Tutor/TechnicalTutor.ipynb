{
 "cells": [
  {
   "cell_type": "code",
   "execution_count": 1,
   "id": "a6141789-a8df-43af-a3bd-7ca53a8f4a5b",
   "metadata": {},
   "outputs": [],
   "source": [
    "# Imports\n",
    "import os\n",
    "from dotenv import load_dotenv\n",
    "from openai import OpenAI\n",
    "from IPython.display import display, Markdown, update_display"
   ]
  },
  {
   "cell_type": "code",
   "execution_count": 2,
   "id": "d1899418-dd1e-46c7-b6cd-729b73872270",
   "metadata": {},
   "outputs": [],
   "source": [
    "# constants\n",
    "load_dotenv(override=True)\n",
    "api_key = os.getenv('OPENAI_API_KEY')\n",
    "Model = 'gpt-4o-mini'\n",
    "\n",
    "openai = OpenAI()"
   ]
  },
  {
   "cell_type": "code",
   "execution_count": 3,
   "id": "358961c2-b186-4a58-a1e0-80c21b205b19",
   "metadata": {},
   "outputs": [],
   "source": [
    "def build_messages(system_prompt, user_prompt, question):\n",
    "    messages=[\n",
    "        {\"role\": \"system\", \"content\": system_prompt},\n",
    "            {\"role\": \"user\", \"content\": user_prompt+question}\n",
    "    ]\n",
    "    return messages"
   ]
  },
  {
   "cell_type": "code",
   "execution_count": 4,
   "id": "28829025-d430-4d72-ac06-9a1b51cf839c",
   "metadata": {},
   "outputs": [],
   "source": [
    "system_prompt = \"You are a technical tutor, expert in LLM and Python.\""
   ]
  },
  {
   "cell_type": "code",
   "execution_count": 7,
   "id": "8347a7b9-4d8e-43d5-be84-b3ec0e038427",
   "metadata": {},
   "outputs": [],
   "source": [
    "user_prompt = \"Give concise and technical answers to the questions that are asked from you. Answer in markdown.\""
   ]
  },
  {
   "cell_type": "code",
   "execution_count": 9,
   "id": "5a7bf86f-c979-4655-bbbb-c3a9118871cc",
   "metadata": {},
   "outputs": [],
   "source": [
    "def get_response(question):\n",
    "    stream = openai.chat.completions.create(\n",
    "        model=Model,\n",
    "        messages= build_messages(system_prompt, user_prompt, question),\n",
    "        stream=True)\n",
    "\n",
    "    response = \"\"\n",
    "    display_handle = display(Markdown(\"\"), display_id=True)\n",
    "    for chunk in stream:\n",
    "        response += chunk.choices[0].delta.content or ''\n",
    "        response = response.replace(\"```\",\"\").replace(\"markdown\", \"\")\n",
    "        update_display(Markdown(response), display_id=display_handle.display_id)\n",
    "        "
   ]
  },
  {
   "cell_type": "code",
   "execution_count": null,
   "id": "a6d02bf4-8fc2-4b8e-adfa-b057b6df9f2e",
   "metadata": {},
   "outputs": [],
   "source": [
    "my_question = input(\"Please enter your question:\")\n",
    "print(get_response(my_question))\n"
   ]
  }
 ],
 "metadata": {
  "kernelspec": {
   "display_name": "Python 3 (ipykernel)",
   "language": "python",
   "name": "python3"
  },
  "language_info": {
   "codemirror_mode": {
    "name": "ipython",
    "version": 3
   },
   "file_extension": ".py",
   "mimetype": "text/x-python",
   "name": "python",
   "nbconvert_exporter": "python",
   "pygments_lexer": "ipython3",
   "version": "3.11.13"
  }
 },
 "nbformat": 4,
 "nbformat_minor": 5
}
