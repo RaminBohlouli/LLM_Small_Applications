{
 "cells": [
  {
   "cell_type": "code",
   "execution_count": 5,
   "id": "d493ee11-caf8-4352-a2fe-4be8bca7868a",
   "metadata": {},
   "outputs": [],
   "source": [
    "import os\n",
    "import requests\n",
    "from openai import OpenAI\n",
    "import anthropic\n",
    "from dotenv import load_dotenv\n",
    "import gradio as gr"
   ]
  },
  {
   "cell_type": "code",
   "execution_count": 6,
   "id": "0005d967-ce0a-4941-a9b5-b500de0f89a2",
   "metadata": {},
   "outputs": [
    {
     "name": "stdout",
     "output_type": "stream",
     "text": [
      "OpenAI API Key exists and begins sk-proj-\n",
      "Anthropic API Key exists and begins sk-ant-\n"
     ]
    }
   ],
   "source": [
    "\n",
    "load_dotenv(override=True)\n",
    "\n",
    "OPENAI_KEY = os.getenv('OPENAI_API_KEY')\n",
    "CLAUDE_KEY = os.getenv('ANTHROPIC_API_KEY')\n",
    "\n",
    "if OPENAI_KEY:\n",
    "    print(f\"OpenAI API Key exists and begins {OPENAI_KEY[:8]}\")\n",
    "else:\n",
    "    print(\"OpenAI API Key not set\")\n",
    "    \n",
    "if CLAUDE_KEY:\n",
    "    print(f\"Anthropic API Key exists and begins {CLAUDE_KEY[:7]}\")\n",
    "else:\n",
    "    print(\"Anthropic API Key not set\")\n"
   ]
  },
  {
   "cell_type": "code",
   "execution_count": 7,
   "id": "44670c8f-a851-4273-9ac5-0ba5adcab431",
   "metadata": {},
   "outputs": [],
   "source": [
    "openai = OpenAI()\n",
    "claude = anthropic.Anthropic()\n",
    "\n",
    "gpt_model = 'gpt-4o-mini'\n",
    "claude_model = 'claude-3-haiku-20240307'"
   ]
  },
  {
   "cell_type": "code",
   "execution_count": 8,
   "id": "bf87b0b0-0c11-4955-8e5d-131c85871f71",
   "metadata": {},
   "outputs": [],
   "source": [
    "system_prompt = 'You are an AI assistant that writes in Markdown'"
   ]
  },
  {
   "cell_type": "code",
   "execution_count": 9,
   "id": "3fceae68-f4ee-4c59-8912-2e2218261649",
   "metadata": {},
   "outputs": [],
   "source": [
    "def stream_gpt(message):\n",
    "    stream = openai.chat.completions.create(\n",
    "        messages = [{\"role\" : \"system\", \"content\" : system_prompt},\n",
    "                   {\"role\" : \"user\", \"content\" : message}],\n",
    "        stream=True,\n",
    "        model = gpt_model\n",
    "    )\n",
    "    result = \"\"\n",
    "    for chunk in stream:\n",
    "        result += chunk.choices[0].delta.content or \"\"\n",
    "        yield result"
   ]
  },
  {
   "cell_type": "code",
   "execution_count": 10,
   "id": "b7a36d43-18ad-4f9c-8879-ba2ca1b7c90f",
   "metadata": {},
   "outputs": [],
   "source": [
    "def stream_claude(prompt):\n",
    "    result = claude.messages.stream(\n",
    "        model=claude_model,\n",
    "        max_tokens=1000,\n",
    "        temperature=0.7,\n",
    "        system=system_prompt,\n",
    "        messages=[\n",
    "            {\"role\": \"user\", \"content\": prompt},\n",
    "        ],\n",
    "    )\n",
    "    response = \"\"\n",
    "    with result as stream:\n",
    "        for text in stream.text_stream:\n",
    "            response += text or \"\"\n",
    "            yield response"
   ]
  },
  {
   "cell_type": "code",
   "execution_count": 11,
   "id": "7035c39c-5656-4dce-b739-bbaf57468263",
   "metadata": {},
   "outputs": [],
   "source": [
    "def call_llm(prompt, model):\n",
    "    if model==\"GPT\":\n",
    "        result = stream_gpt(prompt)\n",
    "    elif model=='Claude':\n",
    "        result = stream_claude(prompt)\n",
    "    else:\n",
    "        raise ValueError(\"Unknown model\")\n",
    "    yield from result\n",
    "    "
   ]
  },
  {
   "cell_type": "code",
   "execution_count": 12,
   "id": "3334abed-62c9-428a-b3c9-11aef4eae2ea",
   "metadata": {},
   "outputs": [
    {
     "name": "stdout",
     "output_type": "stream",
     "text": [
      "* Running on local URL:  http://127.0.0.1:7870\n",
      "* To create a public link, set `share=True` in `launch()`.\n"
     ]
    },
    {
     "data": {
      "text/html": [
       "<div><iframe src=\"http://127.0.0.1:7870/\" width=\"100%\" height=\"500\" allow=\"autoplay; camera; microphone; clipboard-read; clipboard-write;\" frameborder=\"0\" allowfullscreen></iframe></div>"
      ],
      "text/plain": [
       "<IPython.core.display.HTML object>"
      ]
     },
     "metadata": {},
     "output_type": "display_data"
    },
    {
     "data": {
      "text/plain": []
     },
     "execution_count": 12,
     "metadata": {},
     "output_type": "execute_result"
    }
   ],
   "source": [
    "view = gr.Interface(\n",
    "    fn=call_llm,\n",
    "    inputs=[gr.Textbox(label=\"Your message:\"), gr.Dropdown([\"GPT\", \"Claude\"], label=\"Select model\", value=\"GPT\")],\n",
    "    outputs=[gr.Markdown(label=\"Response:\")],\n",
    "    flagging_mode=\"never\"\n",
    ")\n",
    "\n",
    "view.launch()\n"
   ]
  },
  {
   "cell_type": "code",
   "execution_count": null,
   "id": "c2533f44-2f5c-4c66-80d6-9a8ec48a9e37",
   "metadata": {},
   "outputs": [],
   "source": []
  }
 ],
 "metadata": {
  "kernelspec": {
   "display_name": "Python 3 (ipykernel)",
   "language": "python",
   "name": "python3"
  },
  "language_info": {
   "codemirror_mode": {
    "name": "ipython",
    "version": 3
   },
   "file_extension": ".py",
   "mimetype": "text/x-python",
   "name": "python",
   "nbconvert_exporter": "python",
   "pygments_lexer": "ipython3",
   "version": "3.11.13"
  }
 },
 "nbformat": 4,
 "nbformat_minor": 5
}
