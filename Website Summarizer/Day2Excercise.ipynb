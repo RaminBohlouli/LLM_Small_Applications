{
 "cells": [
  {
   "cell_type": "code",
   "execution_count": 1,
   "id": "17ba33c5-ccce-49e4-baf7-ecbe093b65ec",
   "metadata": {},
   "outputs": [],
   "source": [
    "import requests\n",
    "from dotenv import load_dotenv\n",
    "from bs4 import BeautifulSoup\n",
    "from IPython.display import Markdown, display\n",
    "import ollama"
   ]
  },
  {
   "cell_type": "code",
   "execution_count": 2,
   "id": "7c1af888-8315-44b4-8117-8bb780f1bdc3",
   "metadata": {},
   "outputs": [],
   "source": [
    "headers = {\n",
    " \"User-Agent\": \"Mozilla/5.0 (Windows NT 10.0; Win64; x64) AppleWebKit/537.36 (KHTML, like Gecko) Chrome/117.0.0.0 Safari/537.36\"\n",
    "}"
   ]
  },
  {
   "cell_type": "code",
   "execution_count": 3,
   "id": "b677c9bc-1728-414a-b520-b704098d24a7",
   "metadata": {},
   "outputs": [],
   "source": [
    "class Website:\n",
    "    def __init__(self, url):\n",
    "        self.url = url\n",
    "        response = requests.get(url, headers)\n",
    "        soup = BeautifulSoup(response.content, 'html.parser')\n",
    "        self.title = soup.title.string if soup.title else \"No title found\"\n",
    "        for irrelevant in soup.body([\"script\", \"style\", \"img\", \"input\"]):\n",
    "            irrelevant.decompose()\n",
    "        self.text = soup.body.get_text(separator=\"\\n\", strip=True)"
   ]
  },
  {
   "cell_type": "code",
   "execution_count": 4,
   "id": "af7f1de5-900b-452a-b9a1-19d0371ac429",
   "metadata": {},
   "outputs": [],
   "source": [
    "def user_prompt_for(website):\n",
    "    user_prompt = f\"You are looking at a website titled {website.title}\"\n",
    "    user_prompt += \"\\nThe contents of this website is as follows; \\\n",
    "please provide a short summary of this website in markdown. \\\n",
    "If it includes news or announcements, then summarize these too.\\n\\n\"\n",
    "    user_prompt += website.text\n",
    "    return user_prompt"
   ]
  },
  {
   "cell_type": "code",
   "execution_count": 5,
   "id": "7ca6df03-4baf-483a-82ff-2fb696b9d77e",
   "metadata": {},
   "outputs": [],
   "source": [
    "system_prompt = \"You are an assistant that analyzes the contents of a website \\\n",
    "and provides a short summary, ignoring text that might be navigation related. \\\n",
    "Respond in markdown.\""
   ]
  },
  {
   "cell_type": "code",
   "execution_count": 6,
   "id": "514f2abf-51ab-48c0-b952-4f9fa94943fc",
   "metadata": {},
   "outputs": [],
   "source": [
    "\n",
    "def messages_for(website):\n",
    "    return [\n",
    "        {\"role\": \"system\", \"content\": system_prompt},\n",
    "        {\"role\": \"user\", \"content\": user_prompt_for(website)}\n",
    "    ]"
   ]
  },
  {
   "cell_type": "code",
   "execution_count": 10,
   "id": "e86d5ed2-734f-4b57-9e35-562e728c27fa",
   "metadata": {},
   "outputs": [],
   "source": [
    "def summarize(url):\n",
    "    website = Website(url)\n",
    "    response = ollama.chat(\n",
    "        model=\"llama3.1\", \n",
    "        messages= messages_for(website))\n",
    "    return response['message']['content']"
   ]
  },
  {
   "cell_type": "code",
   "execution_count": 11,
   "id": "7d0de815-9c9f-45ce-b0b0-4a6c6b3d79fe",
   "metadata": {},
   "outputs": [],
   "source": [
    "def display_summary(url):\n",
    "    summary = summarize(url)\n",
    "    display(Markdown(summary))"
   ]
  },
  {
   "cell_type": "code",
   "execution_count": 12,
   "id": "834637cf-93da-44ed-81e7-61c4c2b576ba",
   "metadata": {},
   "outputs": [
    {
     "data": {
      "text/markdown": [
       "**Summary of Mastering AI and LLM Engineering Website**\n",
       "==============================================\n",
       "\n",
       "This website, hosted by Edward Donner, is dedicated to providing resources for mastering AI and Large Language Model (LLM) engineering. The main topics covered include:\n",
       "\n",
       "* Overview of the course on Udemy, \"AI and LLM Engineering\", which covers building commercial projects using AI and LLMs.\n",
       "* Useful links and resources, including a GitHub repository with setup instructions, slides, and a companion course on Autonomous Agents.\n",
       "* Explanation of parameters in GPT models and their super-powers.\n",
       "* Instructions for updating code after each week, including pulling the latest code from Git and merging changes.\n",
       "* Contributing to the repository, with guidelines for submitting pull requests and adding community contributions.\n",
       "* Introduction to various Frontier APIs, including OpenAI's GPT-4 and Anthropic's Claude.\n",
       "* Common tools used in LLM engineering, such as Hugging Face, LangChain, Gradio, Weights & Biases, and Google Colab.\n",
       "\n",
       "**News/Announcements**\n",
       "\n",
       "There are no specific news or announcements on this website. However, the author mentions that they have launched an 8-week course on Udemy and encourages students to contribute to the repository.\n",
       "\n",
       "**Additional Resources**\n",
       "\n",
       "The website includes several links to additional resources, including:\n",
       "\n",
       "* Leaderboards for Hugging Face Open LLM, Vellum.ai, and SEAL\n",
       "* Real-world examples of LLMs making commercial impact\n",
       "* Robotics Links, including Humanoid Robotics and Rototics Models and Frameworks\n",
       "\n",
       "Overall, this website provides a comprehensive collection of resources for mastering AI and LLM engineering, covering topics from basic concepts to advanced applications."
      ],
      "text/plain": [
       "<IPython.core.display.Markdown object>"
      ]
     },
     "metadata": {},
     "output_type": "display_data"
    }
   ],
   "source": [
    "display_summary(\"https://edwarddonner.com/2024/11/13/llm-engineering-resources/\")"
   ]
  },
  {
   "cell_type": "code",
   "execution_count": null,
   "id": "a547d148-98bf-437f-8619-8a85c654f5b2",
   "metadata": {},
   "outputs": [],
   "source": []
  }
 ],
 "metadata": {
  "kernelspec": {
   "display_name": "Python 3 (ipykernel)",
   "language": "python",
   "name": "python3"
  },
  "language_info": {
   "codemirror_mode": {
    "name": "ipython",
    "version": 3
   },
   "file_extension": ".py",
   "mimetype": "text/x-python",
   "name": "python",
   "nbconvert_exporter": "python",
   "pygments_lexer": "ipython3",
   "version": "3.11.13"
  }
 },
 "nbformat": 4,
 "nbformat_minor": 5
}
